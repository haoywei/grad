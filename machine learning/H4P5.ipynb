{
 "cells": [
  {
   "cell_type": "code",
   "execution_count": 1,
   "metadata": {},
   "outputs": [],
   "source": [
    "import warnings\n",
    "warnings.filterwarnings('ignore')\n",
    "import tensorflow as tf\n",
    "tf.compat.v1.disable_eager_execution()\n",
    "import numpy as np\n",
    "from matplotlib import pyplot as plt\n",
    "from art.classifiers import KerasClassifier\n",
    "from art.attacks import FastGradientMethod, ProjectedGradientDescent,DeepFool, UniversalPerturbation\n"
   ]
  },
  {
   "cell_type": "code",
   "execution_count": 2,
   "metadata": {},
   "outputs": [],
   "source": [
    "(x_train, y_train), (x_test, y_test) = tf.keras.datasets.mnist.load_data()\n",
    "x_train, x_test = x_train / 255.0, x_test / 255.0\n",
    "x_train = x_train.reshape((60000, 28, 28,1))\n",
    "x_test = x_test.reshape((10000, 28, 28,1))"
   ]
  },
  {
   "cell_type": "code",
   "execution_count": 3,
   "metadata": {},
   "outputs": [
    {
     "name": "stdout",
     "output_type": "stream",
     "text": [
      "WARNING:tensorflow:From C:\\Users\\george\\Anaconda3\\lib\\site-packages\\tensorflow_core\\python\\ops\\resource_variable_ops.py:1630: calling BaseResourceVariable.__init__ (from tensorflow.python.ops.resource_variable_ops) with constraint is deprecated and will be removed in a future version.\n",
      "Instructions for updating:\n",
      "If using Keras pass *_constraint arguments to layers.\n"
     ]
    }
   ],
   "source": [
    "cnn = tf.keras.models.Sequential([\n",
    "    tf.keras.layers.InputLayer(input_shape=(28, 28,1)),\n",
    "    tf.keras.layers.Conv2D(32, kernel_size=(2, 2),\n",
    "                 activation='relu'),\n",
    "    tf.keras.layers.MaxPooling2D(pool_size=(2, 2)),\n",
    "    tf.keras.layers.Flatten(),\n",
    "    tf.keras.layers.Dense(10, activation='softmax')\n",
    "])\n",
    "\n",
    "cnn.compile(optimizer='adam',\n",
    "              loss='sparse_categorical_crossentropy',\n",
    "              metrics=['accuracy'])"
   ]
  },
  {
   "cell_type": "code",
   "execution_count": 4,
   "metadata": {},
   "outputs": [
    {
     "name": "stdout",
     "output_type": "stream",
     "text": [
      "Train on 60000 samples\n",
      "Epoch 1/2\n",
      "60000/60000 [==============================] - 14s 241us/sample - loss: 0.2813 - accuracy: 0.9204\n",
      "Epoch 2/2\n",
      "60000/60000 [==============================] - 14s 227us/sample - loss: 0.1166 - accuracy: 0.9673\n"
     ]
    }
   ],
   "source": [
    "cnn.fit(x_train, y_train, epochs=2);"
   ]
  },
  {
   "cell_type": "code",
   "execution_count": 10,
   "metadata": {},
   "outputs": [
    {
     "name": "stdout",
     "output_type": "stream",
     "text": [
      "10000/10000 [==============================] - 1s 96us/sample - loss: 0.0928 - accuracy: 0.9725\n",
      "Cnn Accuracy on test data: 97.25%\n"
     ]
    }
   ],
   "source": [
    "cnn_loss_test, cnn_accuracy_test = cnn.evaluate(x_test, y_test)\n",
    "print('Cnn Accuracy on test data: {:4.2f}%'.format(cnn_accuracy_test * 100))"
   ]
  },
  {
   "cell_type": "code",
   "execution_count": 5,
   "metadata": {},
   "outputs": [],
   "source": [
    "ann = tf.keras.models.Sequential([\n",
    "    tf.keras.layers.InputLayer(input_shape=(28, 28,1)),\n",
    "    \n",
    "    tf.keras.layers.Dense(32, activation='relu'),\n",
    "    tf.keras.layers.Flatten(),\n",
    "    tf.keras.layers.Dense(10, activation='softmax')\n",
    "])\n",
    "\n",
    "ann.compile(optimizer='adam',\n",
    "              loss='sparse_categorical_crossentropy',\n",
    "              metrics=['accuracy'])"
   ]
  },
  {
   "cell_type": "code",
   "execution_count": 6,
   "metadata": {},
   "outputs": [
    {
     "name": "stdout",
     "output_type": "stream",
     "text": [
      "Train on 60000 samples\n",
      "Epoch 1/2\n",
      "60000/60000 [==============================] - 13s 214us/sample - loss: 0.3515 - accuracy: 0.9012\n",
      "Epoch 2/2\n",
      "60000/60000 [==============================] - 13s 217us/sample - loss: 0.2899 - accuracy: 0.9178\n"
     ]
    }
   ],
   "source": [
    "ann.fit(x_train, y_train, epochs=2);"
   ]
  },
  {
   "cell_type": "code",
   "execution_count": 7,
   "metadata": {},
   "outputs": [
    {
     "name": "stdout",
     "output_type": "stream",
     "text": [
      "10000/10000 [==============================] - 1s 84us/sample - loss: 0.2868 - accuracy: 0.9182\n",
      "Accuracy on test data: 91.82%\n"
     ]
    }
   ],
   "source": [
    "ann_loss_test, ann_accuracy_test = ann.evaluate(x_test, y_test)\n",
    "print('Accuracy on test data: {:4.2f}%'.format(ann_accuracy_test * 100))"
   ]
  },
  {
   "cell_type": "code",
   "execution_count": 11,
   "metadata": {},
   "outputs": [
    {
     "data": {
      "image/png": "[encoded data removed]",
      "text/plain": [
       "<Figure size 432x288 with 1 Axes>"
      ]
     },
     "metadata": {
      "needs_background": "light"
     },
     "output_type": "display_data"
    }
   ],
   "source": [
    "names = ['cnn_accuracy', 'ann_accuracy']\n",
    "values = [cnn_accuracy_test*100, ann_accuracy_test*100]\n",
    "plt.bar(names, values)\n",
    "plt.show()"
   ]
  },
  {
   "cell_type": "code",
   "execution_count": 12,
   "metadata": {},
   "outputs": [],
   "source": [
    "cnn_classifier = KerasClassifier(model=cnn, clip_values=(0, 1))\n",
    "ann_classifier = KerasClassifier(model=ann, clip_values=(0, 1))"
   ]
  },
  {
   "cell_type": "code",
   "execution_count": 39,
   "metadata": {},
   "outputs": [
    {
     "data": {
      "image/png": "[encoded data removed]",
      "text/plain": [
       "<Figure size 288x288 with 1 Axes>"
      ]
     },
     "metadata": {
      "needs_background": "light"
     },
     "output_type": "display_data"
    }
   ],
   "source": [
    "plt.matshow(x_test[0].reshape((28,28)))#original\n",
    "plt.show()"
   ]
  },
  {
   "cell_type": "code",
   "execution_count": 14,
   "metadata": {},
   "outputs": [
    {
     "name": "stdout",
     "output_type": "stream",
     "text": [
      "10000/10000 [==============================] - 1s 92us/sample - loss: 10.0944 - accuracy: 0.0505\n",
      "Accuracy on cnn adversarial test data: 5.05%\n",
      "Average perturbation: 0.15\n"
     ]
    }
   ],
   "source": [
    "#(2) FastGradientMethod\n",
    "attack_fgsm_cnn = FastGradientMethod(classifier=cnn_classifier, eps=0.3)\n",
    "x_test_adv_cnn_FGD = attack_fgsm_cnn.generate(x_test)\n",
    "FGD_cnn_attack_loss_test, FGD_cnn_attack_accuracy_test = cnn.evaluate(x_test_adv_cnn_FGD, y_test)\n",
    "FGD_cnn_perturbation = np.mean(np.abs((x_test_adv_cnn_FGD - x_test)))\n",
    "print('Accuracy on cnn adversarial test data: {:4.2f}%'.format(FGD_cnn_attack_accuracy_test * 100))\n",
    "print('Average perturbation: {:4.2f}'.format(FGD_cnn_perturbation))"
   ]
  },
  {
   "cell_type": "code",
   "execution_count": 31,
   "metadata": {},
   "outputs": [
    {
     "data": {
      "image/png": "[encoded data removed]",
      "text/plain": [
       "<Figure size 288x288 with 1 Axes>"
      ]
     },
     "metadata": {
      "needs_background": "light"
     },
     "output_type": "display_data"
    }
   ],
   "source": [
    "plt.matshow(x_test_adv_cnn_FGD[0].reshape((28,28)))\n",
    "plt.show()"
   ]
  },
  {
   "cell_type": "code",
   "execution_count": 16,
   "metadata": {},
   "outputs": [
    {
     "name": "stdout",
     "output_type": "stream",
     "text": [
      "10000/10000 [==============================] - 1s 85us/sample - loss: 17.4155 - accuracy: 0.0454\n",
      "Accuracy on ann adversarial test data: 4.54%\n",
      "Average perturbation: 0.16\n"
     ]
    }
   ],
   "source": [
    "attack_fgsm_ann = FastGradientMethod(classifier=ann_classifier, eps=0.3)\n",
    "x_test_adv_ann_FGD = attack_fgsm_ann.generate(x_test)\n",
    "FGD_ann_attack_loss_test, FGD_ann_attack_accuracy_test = ann.evaluate(x_test_adv_ann_FGD, y_test)\n",
    "FGD_ann_perturbation = np.mean(np.abs((x_test_adv_ann_FGD - x_test)))\n",
    "print('Accuracy on ann adversarial test data: {:4.2f}%'.format(FGD_ann_attack_accuracy_test * 100))\n",
    "print('Average perturbation: {:4.2f}'.format(FGD_ann_perturbation))"
   ]
  },
  {
   "cell_type": "code",
   "execution_count": 32,
   "metadata": {},
   "outputs": [
    {
     "data": {
      "image/png": "[encoded data removed]",
      "text/plain": [
       "<Figure size 288x288 with 1 Axes>"
      ]
     },
     "metadata": {
      "needs_background": "light"
     },
     "output_type": "display_data"
    }
   ],
   "source": [
    "plt.matshow(x_test_adv_ann_FGD[0].reshape((28,28)))\n",
    "plt.show()"
   ]
  },
  {
   "cell_type": "code",
   "execution_count": 17,
   "metadata": {},
   "outputs": [
    {
     "name": "stdout",
     "output_type": "stream",
     "text": [
      "10000/10000 [==============================] - 1s 85us/sample - loss: 21.8568 - accuracy: 0.0115\n",
      "Accuracy on cnn adversarial test data: 1.15%\n",
      "Average perturbation: 0.13\n"
     ]
    }
   ],
   "source": [
    "#projected gradient descent\n",
    "attack_PGD_cnn = ProjectedGradientDescent(classifier=cnn_classifier, eps=0.3,max_iter=10)\n",
    "x_test_adv_cnn_PGD = attack_PGD_cnn.generate(x_test)\n",
    "PGD_cnn_attack_loss_test, PGD_cnn_attack_accuracy_test = cnn.evaluate(x_test_adv_cnn_PGD, y_test)\n",
    "PGD_cnn_perturbation = np.mean(np.abs((x_test_adv_cnn_PGD - x_test)))\n",
    "print('Accuracy on cnn adversarial test data: {:4.2f}%'.format(PGD_cnn_attack_accuracy_test * 100))\n",
    "print('Average perturbation: {:4.2f}'.format(PGD_cnn_perturbation))"
   ]
  },
  {
   "cell_type": "code",
   "execution_count": 33,
   "metadata": {},
   "outputs": [
    {
     "data": {
      "image/png": "[encoded data removed]",
      "text/plain": [
       "<Figure size 288x288 with 1 Axes>"
      ]
     },
     "metadata": {
      "needs_background": "light"
     },
     "output_type": "display_data"
    }
   ],
   "source": [
    "plt.matshow(x_test_adv_cnn_PGD[0].reshape((28,28)))\n",
    "plt.show()"
   ]
  },
  {
   "cell_type": "code",
   "execution_count": 18,
   "metadata": {},
   "outputs": [
    {
     "name": "stdout",
     "output_type": "stream",
     "text": [
      "10000/10000 [==============================] - 1s 75us/sample - loss: 22.3186 - accuracy: 0.0468\n",
      "Accuracy on cnn adversarial test data: 4.68%\n",
      "Average perturbation: 0.15\n"
     ]
    }
   ],
   "source": [
    "attack_PGD_ann = ProjectedGradientDescent(classifier=ann_classifier, eps=0.3,max_iter=10)\n",
    "x_test_adv_ann_PGD = attack_PGD_ann.generate(x_test)\n",
    "PGD_ann_attack_loss_test, PGD_ann_attack_accuracy_test = ann.evaluate(x_test_adv_ann_PGD, y_test)\n",
    "PGD_ann_perturbation = np.mean(np.abs((x_test_adv_ann_PGD - x_test)))\n",
    "print('Accuracy on ann adversarial test data: {:4.2f}%'.format(PGD_ann_attack_accuracy_test * 100))\n",
    "print('Average perturbation: {:4.2f}'.format(PGD_ann_perturbation))"
   ]
  },
  {
   "cell_type": "code",
   "execution_count": 34,
   "metadata": {},
   "outputs": [
    {
     "data": {
      "image/png": "[encoded data removed]",
      "text/plain": [
       "<Figure size 288x288 with 1 Axes>"
      ]
     },
     "metadata": {
      "needs_background": "light"
     },
     "output_type": "display_data"
    }
   ],
   "source": [
    "plt.matshow(x_test_adv_ann_PGD[0].reshape((28,28)))\n",
    "plt.show()"
   ]
  },
  {
   "cell_type": "code",
   "execution_count": 19,
   "metadata": {},
   "outputs": [
    {
     "name": "stdout",
     "output_type": "stream",
     "text": [
      "10000/10000 [==============================] - 1s 82us/sample - loss: 17.7041 - accuracy: 0.1015\n",
      "Accuracy on cnn adversarial test data: 10.15%\n",
      "Average perturbation: 0.21\n"
     ]
    }
   ],
   "source": [
    "#Deepfool\n",
    "attack_DF_cnn = DeepFool(classifier=cnn_classifier,max_iter=10)\n",
    "x_test_adv_cnn_DF = attack_DF_cnn.generate(x_test)\n",
    "DF_cnn_attack_loss_test, DF_cnn_attack_accuracy_test = cnn.evaluate(x_test_adv_cnn_DF, y_test)\n",
    "DF_cnn_perturbation = np.mean(np.abs((x_test_adv_cnn_DF - x_test)))\n",
    "print('Accuracy on cnn adversarial test data: {:4.2f}%'.format(DF_cnn_attack_accuracy_test * 100))\n",
    "print('Average perturbation: {:4.2f}'.format(DF_cnn_perturbation))"
   ]
  },
  {
   "cell_type": "code",
   "execution_count": 35,
   "metadata": {},
   "outputs": [
    {
     "data": {
      "image/png": "[encoded data removed]",
      "text/plain": [
       "<Figure size 288x288 with 1 Axes>"
      ]
     },
     "metadata": {
      "needs_background": "light"
     },
     "output_type": "display_data"
    }
   ],
   "source": [
    "plt.matshow(x_test_adv_cnn_DF[0].reshape((28,28)))\n",
    "plt.show()"
   ]
  },
  {
   "cell_type": "code",
   "execution_count": 20,
   "metadata": {},
   "outputs": [
    {
     "name": "stdout",
     "output_type": "stream",
     "text": [
      "10000/10000 [==============================] - 1s 74us/sample - loss: 21.8407 - accuracy: 0.0643\n",
      "Accuracy on cnn adversarial test data: 6.43%\n",
      "Average perturbation: 0.14\n"
     ]
    }
   ],
   "source": [
    "attack_DF_ann = DeepFool(classifier=ann_classifier,max_iter=10)\n",
    "x_test_adv_ann_DF = attack_DF_ann.generate(x_test)\n",
    "DF_ann_attack_loss_test, DF_ann_attack_accuracy_test = ann.evaluate(x_test_adv_ann_DF, y_test)\n",
    "DF_ann_perturbation = np.mean(np.abs((x_test_adv_ann_DF - x_test)))\n",
    "print('Accuracy on ann adversarial test data: {:4.2f}%'.format(DF_ann_attack_accuracy_test * 100))\n",
    "print('Average perturbation: {:4.2f}'.format(DF_ann_perturbation))"
   ]
  },
  {
   "cell_type": "code",
   "execution_count": 36,
   "metadata": {},
   "outputs": [
    {
     "data": {
      "image/png": "[encoded data removed]",
      "text/plain": [
       "<Figure size 288x288 with 1 Axes>"
      ]
     },
     "metadata": {
      "needs_background": "light"
     },
     "output_type": "display_data"
    }
   ],
   "source": [
    "plt.matshow(x_test_adv_ann_DF[0].reshape((28,28)))\n",
    "plt.show()"
   ]
  },
  {
   "cell_type": "code",
   "execution_count": 24,
   "metadata": {},
   "outputs": [
    {
     "name": "stdout",
     "output_type": "stream",
     "text": [
      "10000/10000 [==============================] - 1s 72us/sample - loss: 36.9189 - accuracy: 0.1135\n",
      "Accuracy on cnn adversarial test data: 11.35%\n",
      "Average perturbation: 0.25\n"
     ]
    }
   ],
   "source": [
    "#Universal Perturbation Attack\n",
    "attack_UP_cnn = UniversalPerturbation(classifier=cnn_classifier,max_iter= 3)\n",
    "x_test_adv_cnn_UP = attack_UP_cnn.generate(x_test)\n",
    "UP_cnn_attack_loss_test, UP_cnn_attack_accuracy_test = cnn.evaluate(x_test_adv_cnn_UP, y_test)\n",
    "UP_cnn_perturbation = np.mean(np.abs((x_test_adv_cnn_UP - x_test)))\n",
    "print('Accuracy on cnn adversarial test data: {:4.2f}%'.format(UP_cnn_attack_accuracy_test * 100))\n",
    "print('Average perturbation: {:4.2f}'.format(UP_cnn_perturbation))"
   ]
  },
  {
   "cell_type": "code",
   "execution_count": 37,
   "metadata": {},
   "outputs": [
    {
     "data": {
      "image/png": "[encoded data removed]",
      "text/plain": [
       "<Figure size 288x288 with 1 Axes>"
      ]
     },
     "metadata": {
      "needs_background": "light"
     },
     "output_type": "display_data"
    }
   ],
   "source": [
    "plt.matshow(x_test_adv_cnn_UP[0].reshape((28,28)))\n",
    "plt.show()"
   ]
  },
  {
   "cell_type": "code",
   "execution_count": 25,
   "metadata": {},
   "outputs": [
    {
     "name": "stdout",
     "output_type": "stream",
     "text": [
      "10000/10000 [==============================] - 1s 66us/sample - loss: 32.6381 - accuracy: 0.1135\n",
      "Accuracy on ann adversarial test data: 11.35%\n",
      "Average perturbation: 0.26\n"
     ]
    }
   ],
   "source": [
    "attack_UP_ann = UniversalPerturbation(classifier=ann_classifier,max_iter= 3)\n",
    "x_test_adv_ann_UP = attack_UP_ann.generate(x_test)\n",
    "UP_ann_attack_loss_test, UP_ann_attack_accuracy_test = ann.evaluate(x_test_adv_ann_UP, y_test)\n",
    "UP_ann_perturbation = np.mean(np.abs((x_test_adv_ann_UP - x_test)))\n",
    "print('Accuracy on ann adversarial test data: {:4.2f}%'.format(UP_ann_attack_accuracy_test * 100))\n",
    "print('Average perturbation: {:4.2f}'.format(UP_ann_perturbation))"
   ]
  },
  {
   "cell_type": "code",
   "execution_count": 38,
   "metadata": {},
   "outputs": [
    {
     "data": {
      "image/png": "[encoded data removed]",
      "text/plain": [
       "<Figure size 288x288 with 1 Axes>"
      ]
     },
     "metadata": {
      "needs_background": "light"
     },
     "output_type": "display_data"
    }
   ],
   "source": [
    "plt.matshow(x_test_adv_ann_UP[0].reshape((28,28)))\n",
    "plt.show()"
   ]
  },
  {
   "cell_type": "code",
   "execution_count": 29,
   "metadata": {},
   "outputs": [
    {
     "data": {
      "image/png": "[encoded data removed]",
      "text/plain": [
       "<Figure size 432x288 with 1 Axes>"
      ]
     },
     "metadata": {
      "needs_background": "light"
     },
     "output_type": "display_data"
    }
   ],
   "source": [
    "names = ['FGMC', 'FGMA','PGDC', 'PGDA','DFC', 'DFA','UPC', 'UPA']\n",
    "values = [FGD_cnn_attack_accuracy_test,FGD_ann_attack_accuracy_test,PGD_cnn_attack_accuracy_test * 100,PGD_ann_attack_accuracy_test * 100,\n",
    "    DF_cnn_attack_accuracy_test * 100, DF_ann_attack_accuracy_test * 100,UP_cnn_attack_accuracy_test * 100,UP_ann_attack_accuracy_test * 100]\n",
    "plt.bar(names, values)\n",
    "plt.show()"
   ]
  },
  {
   "cell_type": "code",
   "execution_count": 56,
   "metadata": {},
   "outputs": [
    {
     "name": "stdout",
     "output_type": "stream",
     "text": [
      "10000/10000 [==============================] - 1s 68us/sample - loss: 21.7400 - accuracy: 0.0656\n",
      "Accuracy on cnn adversarial test data: 6.56%\n",
      "Average perturbation: 0.19\n"
     ]
    }
   ],
   "source": [
    "adversary_cnn = []\n",
    "for i in range(2500):\n",
    "    adversary_cnn.append(x_test_adv_cnn_FGD[i])\n",
    "for i in range(2500,5000):\n",
    "    adversary_cnn.append(x_test_adv_cnn_PGD[i])\n",
    "for i in range(5000,7500):\n",
    "    adversary_cnn.append(x_test_adv_cnn_DF[i])\n",
    "for i in range(7500,10000):\n",
    "    adversary_cnn.append(x_test_adv_cnn_UP[i])\n",
    "adversary_cnn = np.array(adversary_cnn)\n",
    "adversary_cnn_attack_loss_test, adversary_cnn_attack_accuracy_test = cnn.evaluate(adversary_cnn, y_test)\n",
    "adversary_cnn_perturbation = np.mean(np.abs((adversary_cnn - x_test)))\n",
    "print('Accuracy on cnn adversarial test data: {:4.2f}%'.format(adversary_cnn_attack_accuracy_test * 100))\n",
    "print('Average perturbation: {:4.2f}'.format(adversary_cnn_perturbation))"
   ]
  },
  {
   "cell_type": "code",
   "execution_count": 57,
   "metadata": {},
   "outputs": [
    {
     "name": "stdout",
     "output_type": "stream",
     "text": [
      "10000/10000 [==============================] - 1s 71us/sample - loss: 7.6171 - accuracy: 0.2056\n",
      "Accuracy on ann adversarial test data: 20.56%\n",
      "Average perturbation: 0.18\n"
     ]
    }
   ],
   "source": [
    "adversary_ann = []\n",
    "for i in range(2500):\n",
    "    adversary_ann.append(x_test_adv_ann_FGD[i])\n",
    "for i in range(2500,5000):\n",
    "    adversary_ann.append(x_test_adv_ann_PGD[i])\n",
    "for i in range(5000,7500):\n",
    "    adversary_ann.append(x_test_adv_ann_DF[i])\n",
    "for i in range(7500,10000):\n",
    "    adversary_ann.append(x_test_adv_ann_UP[i])\n",
    "adversary_ann = np.array(adversary_ann)\n",
    "adversary_ann_attack_loss_test, adversary_ann_attack_accuracy_test = cnn.evaluate(adversary_ann, y_test)\n",
    "adversary_ann_perturbation = np.mean(np.abs((adversary_ann - x_test)))\n",
    "print('Accuracy on ann adversarial test data: {:4.2f}%'.format(adversary_ann_attack_accuracy_test * 100))\n",
    "print('Average perturbation: {:4.2f}'.format(adversary_ann_perturbation))"
   ]
  },
  {
   "cell_type": "code",
   "execution_count": 58,
   "metadata": {},
   "outputs": [
    {
     "data": {
      "image/png": "[encoded data removed]",
      "text/plain": [
       "<Figure size 432x288 with 1 Axes>"
      ]
     },
     "metadata": {
      "needs_background": "light"
     },
     "output_type": "display_data"
    }
   ],
   "source": [
    "names = ['adversary_cnn', 'adversary_ann']\n",
    "values = [adversary_cnn_attack_accuracy_test*100, adversary_ann_attack_accuracy_test*100]\n",
    "plt.bar(names, values)\n",
    "plt.show()"
   ]
  },
  {
   "cell_type": "code",
   "execution_count": 44,
   "metadata": {},
   "outputs": [
    {
     "name": "stdout",
     "output_type": "stream",
     "text": [
      "10000/10000 [==============================] - 1s 71us/sample - loss: 10.9615 - accuracy: 0.5104\n",
      "Accuracy on cnn adversarial test data: 51.04%\n",
      "Average perturbation: 0.10\n"
     ]
    }
   ],
   "source": [
    "augmented_test1 = []\n",
    "for i in range(5000):\n",
    "    augmented_test1.append(x_test[i])\n",
    "for i in range(5000,6250):\n",
    "    augmented_test1.append(x_test_adv_cnn_FGD[i])\n",
    "for i in range(6250,7500):\n",
    "    augmented_test1.append(x_test_adv_cnn_PGD[i])\n",
    "for i in range(7500,8750):\n",
    "    augmented_test1.append(x_test_adv_cnn_DF[i])\n",
    "for i in range(8750,10000):\n",
    "    augmented_test1.append(x_test_adv_cnn_UP[i])\n",
    "augmented_test1 = np.array(augmented_test)\n",
    "mixed_cnn_attack_loss_test, mixed_cnn_attack_accuracy_test = cnn.evaluate(augmented_test1, y_test)\n",
    "mixed_cnn_perturbation = np.mean(np.abs((augmented_test1 - x_test)))\n",
    "print('Accuracy on cnn adversarial test data: {:4.2f}%'.format(mixed_cnn_attack_accuracy_test * 100))\n",
    "print('Average perturbation: {:4.2f}'.format(mixed_cnn_perturbation))"
   ]
  },
  {
   "cell_type": "code",
   "execution_count": 50,
   "metadata": {},
   "outputs": [
    {
     "name": "stdout",
     "output_type": "stream",
     "text": [
      "10000/10000 [==============================] - 1s 70us/sample - loss: 12.7557 - accuracy: 0.4748\n",
      "Accuracy on cnn adversarial test data: 47.48%\n",
      "Average perturbation: 0.09\n"
     ]
    }
   ],
   "source": [
    "augmented_test2 = []\n",
    "for i in range(5000):\n",
    "    augmented_test2.append(x_test[i])\n",
    "for i in range(5000,6250):\n",
    "    augmented_test2.append(x_test_adv_ann_FGD[i])\n",
    "for i in range(6250,7500):\n",
    "    augmented_test2.append(x_test_adv_ann_PGD[i])\n",
    "for i in range(7500,8750):\n",
    "    augmented_test2.append(x_test_adv_ann_DF[i])\n",
    "for i in range(8750,10000):\n",
    "    augmented_test2.append(x_test_adv_ann_UP[i])\n",
    "augmented_test2 = np.array(augmented_test2)\n",
    "mixed_ann_attack_loss_test, mixed_ann_attack_accuracy_test = ann.evaluate(augmented_test2, y_test)\n",
    "mixed_ann_perturbation = np.mean(np.abs((augmented_test2 - x_test)))\n",
    "print('Accuracy on cnn adversarial test data: {:4.2f}%'.format(mixed_ann_attack_accuracy_test * 100))\n",
    "print('Average perturbation: {:4.2f}'.format(mixed_ann_perturbation))"
   ]
  },
  {
   "cell_type": "code",
   "execution_count": 51,
   "metadata": {},
   "outputs": [
    {
     "data": {
      "image/png": "[encoded data removed]",
      "text/plain": [
       "<Figure size 432x288 with 1 Axes>"
      ]
     },
     "metadata": {
      "needs_background": "light"
     },
     "output_type": "display_data"
    }
   ],
   "source": [
    "names = ['mixed_cnn', 'mixed_ann']\n",
    "values = [mixed_cnn_attack_accuracy_test*100, mixed_ann_attack_accuracy_test*100]\n",
    "plt.bar(names, values)\n",
    "plt.show()"
   ]
  },
  {
   "cell_type": "code",
   "execution_count": 60,
   "metadata": {},
   "outputs": [
    {
     "data": {
      "image/png": "[encoded data removed]",
      "text/plain": [
       "<Figure size 432x288 with 1 Axes>"
      ]
     },
     "metadata": {
      "needs_background": "light"
     },
     "output_type": "display_data"
    }
   ],
   "source": [
    "names = ['ori_cnn', 'ori_ann','adv_cnn', 'adv_ann','mixed_cnn', 'mixed_ann']\n",
    "values = [cnn_accuracy_test*100, ann_accuracy_test*100,adversary_cnn_attack_accuracy_test*100, adversary_ann_attack_accuracy_test*100,mixed_cnn_attack_accuracy_test*100, mixed_ann_attack_accuracy_test*100]\n",
    "plt.bar(names, values)\n",
    "plt.show()"
   ]
  },
  {
   "cell_type": "code",
   "execution_count": null,
   "metadata": {},
   "outputs": [],
   "source": [
    "#6 From the graph above, we can see that in mixed dataset cnn performs better than ann however in all adversary examples, ann performs much beeter than cnn.\n",
    "#In original dataset, cnn performs a little higher than ann. I think it is because the structure doesn't have so many layers to protect CNN."
   ]
  },
  {
   "cell_type": "code",
   "execution_count": null,
   "metadata": {},
   "outputs": [],
   "source": []
  }
 ],
 "metadata": {
  "kernelspec": {
   "display_name": "Python 3",
   "language": "python",
   "name": "python3"
  },
  "language_info": {
   "codemirror_mode": {
    "name": "ipython",
    "version": 3
   },
   "file_extension": ".py",
   "mimetype": "text/x-python",
   "name": "python",
   "nbconvert_exporter": "python",
   "pygments_lexer": "ipython3",
   "version": "3.7.3"
  }
 },
 "nbformat": 4,
 "nbformat_minor": 2
}
