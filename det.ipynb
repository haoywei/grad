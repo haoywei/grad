{
 "cells": [
  {
   "cell_type": "code",
   "execution_count": 1,
   "metadata": {},
   "outputs": [
    {
     "name": "stderr",
     "output_type": "stream",
     "text": [
      "Using TensorFlow backend.\n"
     ]
    }
   ],
   "source": [
    "from imageai.Detection.Custom import CustomObjectDetection, CustomVideoObjectDetection\n",
    "import os,glob\n",
    "import tensorflow\n",
    "from tensorflow.keras import models,layers\n",
    "from sklearn.linear_model import LogisticRegression\n",
    "import numpy \n",
    "execution_path = os.getcwd()\n",
    "\n",
    "\n",
    "# def train_detection_model():\n",
    "#     from imageai.Detection.Custom import DetectionModelTrainer\n",
    "\n",
    "#     trainer = DetectionModelTrainer()\n",
    "#     trainer.setModelTypeAsYOLOv3()\n",
    "#     trainer.setDataDirectory(data_directory=\"fire-dataset\")\n",
    "#     trainer.setTrainConfig(object_names_array=[\"fire\"], batch_size=8, num_experiments=100,\n",
    "#                            train_from_pretrained_model=\"pretrained-yolov3.h5\")\n",
    "#     # download 'pretrained-yolov3.h5' from the link below\n",
    "#     # https://github.com/OlafenwaMoses/ImageAI/releases/download/essential-v4/pretrained-yolov3.h5\n",
    "#     trainer.trainModel()\n",
    "\n",
    "\n",
    "def detect_from_image():\n",
    "#     print(execution_path)\n",
    "    file_path = os.getcwd()+ \"\\\\onfire\"\n",
    "    print(file_path)\n",
    "    saved_path = os.getcwd() + \"\\det_dataset\"\n",
    "#     print(saved_path)\n",
    "    detector = CustomObjectDetection()\n",
    "    detector.setModelTypeAsYOLOv3()\n",
    "    detector.setModelPath(detection_model_path=os.path.join(execution_path, \"detection_model-ex-33--loss-4.97.h5\"))\n",
    "    detector.setJsonPath(configuration_json=os.path.join(execution_path, \"detection_config.json\"))\n",
    "    detector.loadModel()\n",
    "    f = open(\"onfire.txt\", \"a\")\n",
    "    for file in os.listdir(file_path):\n",
    "        detections = detector.detectObjectsFromImage(input_image=os.path.join(file_path, file),\n",
    "                                                 output_image_path=os.path.join(saved_path, file ),\n",
    "                                                 minimum_percentage_probability=40)\n",
    "\n",
    "        for detection in detections:\n",
    "#             print(detection[\"name\"], \" : \", detection[\"percentage_probability\"], \" : \", detection[\"box_points\"])\n",
    "            output = str(detection[\"name\"]) + \";\" + str(detection[\"percentage_probability\"]) + \":\" + str(detection[\"box_points\"] )\n",
    "            f.write(str(output))\n",
    "        f.write(\"\\n\")\n",
    "    f.close()"
   ]
  },
  {
   "cell_type": "code",
   "execution_count": 283,
   "metadata": {},
   "outputs": [
    {
     "name": "stdout",
     "output_type": "stream",
     "text": [
      "C:\\Users\\george\\Desktop\\project\\onfire\n"
     ]
    }
   ],
   "source": [
    "# detect_from_image()"
   ]
  },
  {
   "cell_type": "code",
   "execution_count": 2,
   "metadata": {},
   "outputs": [
    {
     "name": "stdout",
     "output_type": "stream",
     "text": [
      "50 50 50 50 50\n"
     ]
    }
   ],
   "source": [
    "fire_exact_value = []\n",
    "fire_percentage = []\n",
    "fire_position = []\n",
    "stove = []\n",
    "cook = []\n",
    "f = open(\"fire_data.txt\")\n",
    "a = f.readline()\n",
    "while a != '':\n",
    "    temp = a.split(\"fire;\")\n",
    "    if len(temp) == 1:\n",
    "        fire_percentage.append(0)\n",
    "        fire_position.append([0,0,0,0])\n",
    "    if len(temp) == 2:\n",
    "        temp2 = temp[1].split(\":\")\n",
    "        temp3 = temp2[1].replace(\"[\", \"\")\n",
    "        temp3 = temp3.replace(\"]\", \"\")\n",
    "        temp3 = temp3.split(\",\")\n",
    "        fire_percentage.append(float(temp2[0]))\n",
    "        fire_position.append([int(temp3[0]),int(temp3[1]),int(temp3[2]),int(temp3[3])])\n",
    "    if len(temp) > 2:\n",
    "        start = 1\n",
    "        temp_per = []\n",
    "        temp_position = []\n",
    "        max_fire = 0\n",
    "        max_position = []\n",
    "        while start < len(temp):\n",
    "            temp2 = temp[start].split(\":\")\n",
    "            temp3 = temp2[1].replace(\"[\", \"\")\n",
    "            temp3 = temp3.replace(\"]\", \"\")\n",
    "            temp3 = temp3.split(\",\")\n",
    "            if float(temp2[0])> max_fire:\n",
    "                max_fire = float(temp2[0])\n",
    "                max_position = [int(temp3[0]),int(temp3[1]),int(temp3[2]),int(temp3[3])]\n",
    "            start = start + 1\n",
    "        fire_percentage.append(max_fire)\n",
    "        fire_position.append(max_position)\n",
    "    stove.append(1)\n",
    "    cook.append(0)\n",
    "    fire_exact_value.append(0)\n",
    "    a=f.readline()\n",
    "print(len(fire_percentage),len(fire_position),len(stove),len(cook),len(fire_exact_value))\n",
    "f.close()"
   ]
  },
  {
   "cell_type": "code",
   "execution_count": 3,
   "metadata": {},
   "outputs": [
    {
     "name": "stdout",
     "output_type": "stream",
     "text": [
      "111 111 111 111 111\n"
     ]
    }
   ],
   "source": [
    "f = open(\"kitchen_fire.txt\")\n",
    "a = f.readline()\n",
    "while a != '':\n",
    "    temp = a.split(\"fire;\")\n",
    "    if len(temp) == 1:\n",
    "        fire_percentage.append(0)\n",
    "        fire_position.append([0,0,0,0])\n",
    "    if len(temp) == 2:\n",
    "        temp2 = temp[1].split(\":\")\n",
    "        temp3 = temp2[1].replace(\"[\", \"\")\n",
    "        temp3 = temp3.replace(\"]\", \"\")\n",
    "        temp3 = temp3.split(\",\")\n",
    "        fire_percentage.append(float(temp2[0]))\n",
    "        fire_position.append([int(temp3[0]),int(temp3[1]),int(temp3[2]),int(temp3[3])])\n",
    "    if len(temp) > 2:\n",
    "        start = 1\n",
    "        temp_per = []\n",
    "        temp_position = []\n",
    "        max_fire = 0\n",
    "        max_position = []\n",
    "        while start < len(temp):\n",
    "            temp2 = temp[start].split(\":\")\n",
    "            temp3 = temp2[1].replace(\"[\", \"\")\n",
    "            temp3 = temp3.replace(\"]\", \"\")\n",
    "            temp3 = temp3.split(\",\")\n",
    "            if float(temp2[0])> max_fire:\n",
    "                max_fire = float(temp2[0])\n",
    "                max_position = [int(temp3[0]),int(temp3[1]),int(temp3[2]),int(temp3[3])]\n",
    "            start = start + 1\n",
    "        fire_percentage.append(max_fire)\n",
    "        fire_position.append(max_position)\n",
    "    stove.append(0)\n",
    "    cook.append(1)\n",
    "    fire_exact_value.append(0)\n",
    "    a=f.readline()\n",
    "print(len(fire_percentage),len(fire_position),len(stove),len(cook),len(fire_exact_value))\n",
    "f.close()"
   ]
  },
  {
   "cell_type": "code",
   "execution_count": 4,
   "metadata": {},
   "outputs": [
    {
     "name": "stdout",
     "output_type": "stream",
     "text": [
      "171 171 171 171 171\n"
     ]
    }
   ],
   "source": [
    "f = open(\"onfire.txt\")\n",
    "a = f.readline()\n",
    "while a != '':\n",
    "    temp = a.split(\"fire;\")\n",
    "    if len(temp) == 1:\n",
    "        fire_percentage.append(0)\n",
    "        fire_position.append([0,0,0,0])\n",
    "    if len(temp) == 2:\n",
    "        temp2 = temp[1].split(\":\")\n",
    "        temp3 = temp2[1].replace(\"[\", \"\")\n",
    "        temp3 = temp3.replace(\"]\", \"\")\n",
    "        temp3 = temp3.split(\",\")\n",
    "        fire_percentage.append(float(temp2[0]))\n",
    "        fire_position.append([int(temp3[0]),int(temp3[1]),int(temp3[2]),int(temp3[3])])\n",
    "    if len(temp) > 2:\n",
    "        start = 1\n",
    "        temp_per = []\n",
    "        temp_position = []\n",
    "        max_fire = 0\n",
    "        max_position = []\n",
    "        while start < len(temp):\n",
    "            temp2 = temp[start].split(\":\")\n",
    "            temp3 = temp2[1].replace(\"[\", \"\")\n",
    "            temp3 = temp3.replace(\"]\", \"\")\n",
    "            temp3 = temp3.split(\",\")\n",
    "            if float(temp2[0])> max_fire:\n",
    "                max_fire = float(temp2[0])\n",
    "                max_position = [int(temp3[0]),int(temp3[1]),int(temp3[2]),int(temp3[3])]\n",
    "            start = start + 1\n",
    "        fire_percentage.append(max_fire)\n",
    "        fire_position.append(max_position)\n",
    "    stove.append(0)\n",
    "    cook.append(0)\n",
    "    fire_exact_value.append(1)\n",
    "    a=f.readline()\n",
    "print(len(fire_percentage),len(fire_position),len(stove),len(cook),len(fire_exact_value))\n",
    "f.close()"
   ]
  },
  {
   "cell_type": "code",
   "execution_count": 5,
   "metadata": {},
   "outputs": [
    {
     "name": "stdout",
     "output_type": "stream",
     "text": [
      "221 221 221 221 221\n"
     ]
    }
   ],
   "source": [
    "f = open(\"cook2.txt\")\n",
    "a = f.readline()\n",
    "while a != '':\n",
    "    temp = a.split(\"fire;\")\n",
    "    if len(temp) == 1:\n",
    "        fire_percentage.append(0)\n",
    "        fire_position.append([0,0,0,0])\n",
    "    if len(temp) == 2:\n",
    "        temp2 = temp[1].split(\":\")\n",
    "        temp3 = temp2[1].replace(\"[\", \"\")\n",
    "        temp3 = temp3.replace(\"]\", \"\")\n",
    "        temp3 = temp3.split(\",\")\n",
    "        fire_percentage.append(float(temp2[0]))\n",
    "        fire_position.append([int(temp3[0]),int(temp3[1]),int(temp3[2]),int(temp3[3])])\n",
    "    if len(temp) > 2:\n",
    "        start = 1\n",
    "        temp_per = []\n",
    "        temp_position = []\n",
    "        max_fire = 0\n",
    "        max_position = []\n",
    "        while start < len(temp):\n",
    "            temp2 = temp[start].split(\":\")\n",
    "            temp3 = temp2[1].replace(\"[\", \"\")\n",
    "            temp3 = temp3.replace(\"]\", \"\")\n",
    "            temp3 = temp3.split(\",\")\n",
    "            if float(temp2[0])> max_fire:\n",
    "                max_fire = float(temp2[0])\n",
    "                max_position = [int(temp3[0]),int(temp3[1]),int(temp3[2]),int(temp3[3])]\n",
    "            start = start + 1\n",
    "        fire_percentage.append(max_fire)\n",
    "        fire_position.append(max_position)\n",
    "    stove.append(0)\n",
    "    cook.append(1)\n",
    "    fire_exact_value.append(0)\n",
    "    a=f.readline()\n",
    "print(len(fire_percentage),len(fire_position),len(stove),len(cook),len(fire_exact_value))\n",
    "f.close()"
   ]
  },
  {
   "cell_type": "code",
   "execution_count": 6,
   "metadata": {},
   "outputs": [
    {
     "name": "stdout",
     "output_type": "stream",
     "text": [
      "272 272 272 272 272\n"
     ]
    }
   ],
   "source": [
    "f = open(\"kitchen_dis.txt\")\n",
    "a = f.readline()\n",
    "while a != '':\n",
    "    temp = a.split(\"fire;\")\n",
    "    if len(temp) == 1:\n",
    "        fire_percentage.append(0)\n",
    "        fire_position.append([0,0,0,0])\n",
    "    if len(temp) == 2:\n",
    "        temp2 = temp[1].split(\":\")\n",
    "        temp3 = temp2[1].replace(\"[\", \"\")\n",
    "        temp3 = temp3.replace(\"]\", \"\")\n",
    "        temp3 = temp3.split(\",\")\n",
    "        fire_percentage.append(float(temp2[0]))\n",
    "        fire_position.append([int(temp3[0]),int(temp3[1]),int(temp3[2]),int(temp3[3])])\n",
    "    if len(temp) > 2:\n",
    "        start = 1\n",
    "        temp_per = []\n",
    "        temp_position = []\n",
    "        max_fire = 0\n",
    "        max_position = []\n",
    "        while start < len(temp):\n",
    "            temp2 = temp[start].split(\":\")\n",
    "            temp3 = temp2[1].replace(\"[\", \"\")\n",
    "            temp3 = temp3.replace(\"]\", \"\")\n",
    "            temp3 = temp3.split(\",\")\n",
    "            if (float(temp2[0]))> max_fire:\n",
    "                max_fire = float(temp2[0])\n",
    "                max_position = [int(temp3[0]),int(temp3[1]),int(temp3[2]),int(temp3[3])]\n",
    "            start = start + 1\n",
    "        fire_percentage.append(max_fire)\n",
    "        fire_position.append(max_position)\n",
    "    a=f.readline()\n",
    "    stove.append(0)\n",
    "    cook.append(1)\n",
    "fire_exact_value  = fire_exact_value + [1,1,1,1,1,1,1,0,0,0,0,0,0,0,0,0,0,0,0,0,0,0,0,0,0,0,0,1,1,1,1,1,1,1,1,1,0,1,1,1,1,1,1,1,1,1,1,1,1,1,1]\n",
    "print(len(fire_percentage),len(fire_position),len(stove),len(cook),len(fire_exact_value))\n",
    "f.close()"
   ]
  },
  {
   "cell_type": "code",
   "execution_count": 7,
   "metadata": {},
   "outputs": [
    {
     "name": "stdout",
     "output_type": "stream",
     "text": [
      "294 294 294 294 294\n"
     ]
    }
   ],
   "source": [
    "f = open(\"outside_fire_data.txt\")\n",
    "a = f.readline()\n",
    "while a != '':\n",
    "    temp = a.split(\"fire;\")\n",
    "\n",
    "    if len(temp) == 1:\n",
    "        fire_percentage.append(0)\n",
    "        fire_position.append([0,0,0,0])\n",
    "    if len(temp) == 2:\n",
    "        temp2 = temp[1].split(\":\")\n",
    "        temp3 = temp2[1].replace(\"[\", \"\")\n",
    "        temp3 = temp3.replace(\"]\", \"\")\n",
    "        temp3 = temp3.split(\",\")\n",
    "        fire_percentage.append(float(temp2[0]))\n",
    "        fire_position.append([int(temp3[0]),int(temp3[1]),int(temp3[2]),int(temp3[3])])\n",
    "    if len(temp) > 2:\n",
    "        start = 1\n",
    "        temp_per = []\n",
    "        temp_position = []\n",
    "        max_fire = 0\n",
    "        max_position = []\n",
    "        while start < len(temp):\n",
    "            temp2 = temp[start].split(\":\")\n",
    "            temp3 = temp2[1].replace(\"[\", \"\")\n",
    "            temp3 = temp3.replace(\"]\", \"\")\n",
    "            temp3 = temp3.split(\",\")\n",
    "            if(float(temp2[0]))> max_fire:\n",
    "                max_fire = float(temp2[0])\n",
    "                max_position = [int(temp3[0]),int(temp3[1]),int(temp3[2]),int(temp3[3])]\n",
    "            start = start + 1\n",
    "        fire_percentage.append(max_fire)\n",
    "        fire_position.append(max_position)\n",
    "    a=f.readline()\n",
    "    \n",
    "    stove.append(0)\n",
    "    cook.append(0)\n",
    "fire_exact_value  = fire_exact_value + [0,1,1,1,1,0,0,1,1,1,1,1,1,1,1,1,1,1,1,1,1,1]\n",
    "print(len(fire_percentage),len(fire_position),len(stove),len(cook),len(fire_exact_value))\n",
    "f.close()"
   ]
  },
  {
   "cell_type": "code",
   "execution_count": 8,
   "metadata": {},
   "outputs": [
    {
     "name": "stdout",
     "output_type": "stream",
     "text": [
      "338 338 338 338 338\n"
     ]
    }
   ],
   "source": [
    "\n",
    "f = open(\"cook.txt\")\n",
    "a = f.readline()\n",
    "while a != '':\n",
    "    temp = a.split(\"fire;\")\n",
    "    if len(temp) == 1:\n",
    "        fire_percentage.append(0)\n",
    "        fire_position.append([0,0,0,0])\n",
    "    if len(temp) == 2:\n",
    "        temp2 = temp[1].split(\":\")\n",
    "        temp3 = temp2[1].replace(\"[\", \"\")\n",
    "        temp3 = temp3.replace(\"]\", \"\")\n",
    "        temp3 = temp3.split(\",\")\n",
    "        fire_percentage.append(float(temp2[0]))\n",
    "        fire_position.append([int(temp3[0]),int(temp3[1]),int(temp3[2]),int(temp3[3])])\n",
    "    if len(temp) > 2:\n",
    "        start = 1\n",
    "        temp_per = []\n",
    "        temp_position = []\n",
    "        max_fire = 0\n",
    "        max_position = []\n",
    "        while start < len(temp):\n",
    "            temp2 = temp[start].split(\":\")\n",
    "            temp3 = temp2[1].replace(\"[\", \"\")\n",
    "            temp3 = temp3.replace(\"]\", \"\")\n",
    "            temp3 = temp3.split(\",\")\n",
    "            if(float(temp2[0]))> max_fire:\n",
    "                max_fire = float(temp2[0])\n",
    "                max_position = [int(temp3[0]),int(temp3[1]),int(temp3[2]),int(temp3[3])]\n",
    "            start = start + 1\n",
    "        fire_percentage.append(max_fire)\n",
    "        fire_position.append(max_position)\n",
    "    a=f.readline()\n",
    "    \n",
    "    stove.append(0)\n",
    "    cook.append(1)\n",
    "    fire_exact_value.append(0)\n",
    "print(len(fire_percentage),len(fire_position),len(stove),len(cook),len(fire_exact_value))\n",
    "f.close()"
   ]
  },
  {
   "cell_type": "code",
   "execution_count": 9,
   "metadata": {},
   "outputs": [
    {
     "name": "stdout",
     "output_type": "stream",
     "text": [
      "338 338 338 338 338\n"
     ]
    }
   ],
   "source": [
    "print(len(fire_percentage),len(fire_position),len(stove),len(cook),len(fire_exact_value))\n",
    "for i in range(50):\n",
    "    fire_percentage.append(0)\n",
    "    fire_position.append([0,0,0,0])\n",
    "    stove.append(0)\n",
    "    cook.append(0)\n",
    "    fire_exact_value.append(0)"
   ]
  },
  {
   "cell_type": "code",
   "execution_count": 10,
   "metadata": {},
   "outputs": [
    {
     "name": "stderr",
     "output_type": "stream",
     "text": [
      "C:\\Users\\george\\Anaconda3\\lib\\site-packages\\sklearn\\linear_model\\logistic.py:432: FutureWarning: Default solver will be changed to 'lbfgs' in 0.22. Specify a solver to silence this warning.\n",
      "  FutureWarning)\n"
     ]
    }
   ],
   "source": [
    "logisticRegr = LogisticRegression(C=1e6)\n",
    "train_data =[]\n",
    "for i in range (len(fire_percentage)):\n",
    "    train_data.append([fire_percentage[i],fire_position[i][0],fire_position[i][1],fire_position[i][2]*fire_position[i][3]/1000000,stove[i],cook[i]])\n",
    "label = numpy.array(fire_exact_value)\n",
    "logisticRegr.fit(train_data,label)\n",
    "f_test_data = []\n",
    "f_test_exact_value = []"
   ]
  },
  {
   "cell_type": "code",
   "execution_count": 25,
   "metadata": {},
   "outputs": [
    {
     "name": "stdout",
     "output_type": "stream",
     "text": [
      "['', '56.97280168533325:[599, 0, 955, 959]\\n']\n",
      "['', '55.07134795188904:[410, 0, 1183, 880]\\n']\n",
      "['', '59.841495752334595:[437, 0, 1092, 899]\\n']\n",
      "['', '58.12838673591614:[390, 0, 1132, 881]\\n']\n",
      "['', '58.04235339164734:[408, 0, 1136, 900]\\n']\n",
      "['', '56.8525493144989:[550, 0, 1282, 819]\\n']\n",
      "['', '54.18182015419006:[681, 0, 1458, 806]\\n']\n",
      "['', '52.27944254875183:[721, 45, 1446, 806]\\n']\n",
      "['', '56.14844560623169:[749, 0, 1377, 882]\\n']\n",
      "['', '57.36317038536072:[656, 27, 1434, 841]\\n']\n",
      "['', '55.89362978935242:[710, 0, 1388, 809]\\n']\n",
      "['', '54.4009268283844:[556, 8, 1355, 853]\\n']\n",
      "['', '56.23892545700073:[571, 0, 1243, 901]\\n']\n",
      "['', '50.97094774246216:[491, 132, 1078, 889]\\n']\n",
      "['', '51.810723543167114:[383, 0, 899, 942]\\n']\n",
      "['', '64.86656665802002:[370, 181, 830, 926]\\n']\n",
      "['', '65.7761812210083:[431, 33, 699, 1024]\\n']\n",
      "['', '44.019293785095215:[453, 438, 744, 926]\\n']\n",
      "['\\n']\n",
      "['\\n']\n",
      "['\\n']\n",
      "['\\n']\n",
      "['\\n']\n",
      "['', '41.41864478588104:[390, 575, 667, 954]\\n']\n",
      "['', '45.40465176105499:[381, 654, 677, 970]', '68.93025040626526:[264, 18, 363, 329]\\n']\n",
      "['', '40.00725448131561:[400, 503, 655, 954]\\n']\n",
      "['\\n']\n",
      "['', '42.546552419662476:[363, 621, 686, 989]\\n']\n",
      "['', '41.33866727352142:[371, 598, 681, 997]\\n']\n",
      "['\\n']\n",
      "['\\n']\n",
      "['\\n']\n",
      "['', '49.310103058815:[378, 596, 671, 990]\\n']\n",
      "['', '43.952199816703796:[374, 631, 680, 972]\\n']\n",
      "['\\n']\n",
      "['', '43.751367926597595:[376, 571, 673, 1014]\\n']\n",
      "['\\n']\n",
      "['', '43.131887912750244:[386, 631, 672, 978]\\n']\n"
     ]
    }
   ],
   "source": [
    "test_exact_value = []\n",
    "test_percentage = []\n",
    "test_position = []\n",
    "test_stove = []\n",
    "test_cook = []\n",
    "f = open(\"test_out.txt\")\n",
    "a = f.readline()\n",
    "while a != '':\n",
    "    temp = a.split(\"fire;\")\n",
    "    print(temp)\n",
    "    if len(temp) == 1:\n",
    "        test_percentage.append(0)\n",
    "        test_position.append([0,0,0,0])\n",
    "    if len(temp) == 2:\n",
    "        temp2 = temp[1].split(\":\")\n",
    "        temp3 = temp2[1].replace(\"[\", \"\")\n",
    "        temp3 = temp3.replace(\"]\", \"\")\n",
    "        temp3 = temp3.split(\",\")\n",
    "        test_percentage.append(float(temp2[0]))\n",
    "        test_position.append([int(temp3[0]),int(temp3[1]),int(temp3[2]),int(temp3[3])])\n",
    "    if len(temp) > 2:\n",
    "        start = 1\n",
    "        temp_per = []\n",
    "        temp_position = []\n",
    "        max_fire = 0\n",
    "        max_position = []\n",
    "        while start < len(temp):\n",
    "            temp2 = temp[start].split(\":\")\n",
    "            temp3 = temp2[1].replace(\"[\", \"\")\n",
    "            temp3 = temp3.replace(\"]\", \"\")\n",
    "            temp3 = temp3.split(\",\")\n",
    "            if float(temp2[0])> max_fire:\n",
    "                max_fire = float(temp2[0])\n",
    "                max_position = [int(temp3[0]),int(temp3[1]),int(temp3[2]),int(temp3[3])]\n",
    "            start = start + 1\n",
    "        test_percentage.append(max_fire)\n",
    "        test_position.append(max_position)\n",
    "    test_stove.append(0)\n",
    "    test_cook.append(1)\n",
    "    a=f.readline()\n",
    "\n",
    "test_exact_value = [1,1,1,1,1,1,1,1,1,1,1,1,1,1,1,1,1,1,1,1,1,1,0,0,0,0,0,0,0,0,0,0,0,0,0,0,0,0]\n",
    "f.close()"
   ]
  },
  {
   "cell_type": "code",
   "execution_count": 26,
   "metadata": {},
   "outputs": [
    {
     "name": "stdout",
     "output_type": "stream",
     "text": [
      "[1 1 1 1 1 1 1 1 1 1 1 1 1 1 1 1 1 0 0 0 0 0 0 0 1 0 0 0 0 0 0 0 0 0 0 0 0\n",
      " 0]\n",
      "0.8421052631578947\n"
     ]
    }
   ],
   "source": [
    "acc = []\n",
    "test_data=[]\n",
    "for i in range (len(test_percentage)):\n",
    "    test_data.append([test_percentage[i],test_position[i][0],test_position[i][1],test_position[i][2]*test_position[i][3]/1000000,test_stove[i],test_cook[i]])\n",
    "print(logisticRegr.predict(test_data))\n",
    "f_test_data = f_test_data + test_data\n",
    "f_test_exact_value = f_test_exact_value + test_exact_value\n",
    "accuracy = logisticRegr.score(test_data,test_exact_value)\n",
    "print(accuracy)\n",
    "acc.append(accuracy)"
   ]
  },
  {
   "cell_type": "code",
   "execution_count": 27,
   "metadata": {},
   "outputs": [
    {
     "name": "stdout",
     "output_type": "stream",
     "text": [
      "['\\n']\n",
      "['\\n']\n",
      "['\\n']\n",
      "['\\n']\n",
      "['\\n']\n",
      "['\\n']\n",
      "['\\n']\n",
      "['\\n']\n",
      "['\\n']\n",
      "['\\n']\n",
      "['\\n']\n",
      "['', '49.31687414646149:[470, 592, 1470, 984]\\n']\n",
      "['\\n']\n",
      "['\\n']\n",
      "['\\n']\n",
      "['\\n']\n",
      "['\\n']\n",
      "['\\n']\n",
      "['\\n']\n",
      "['\\n']\n",
      "['\\n']\n",
      "['\\n']\n",
      "['\\n']\n",
      "['\\n']\n",
      "['\\n']\n",
      "['\\n']\n"
     ]
    }
   ],
   "source": [
    "test_exact_value = []\n",
    "test_percentage = []\n",
    "test_position = []\n",
    "test_stove = []\n",
    "test_cook = []\n",
    "f = open(\"test_out2.txt\")\n",
    "a = f.readline()\n",
    "while a != '':\n",
    "    temp = a.split(\"fire;\")\n",
    "    print(temp)\n",
    "    if len(temp) == 1:\n",
    "        test_percentage.append(0)\n",
    "        test_position.append([0,0,0,0])\n",
    "    if len(temp) == 2:\n",
    "        temp2 = temp[1].split(\":\")\n",
    "        temp3 = temp2[1].replace(\"[\", \"\")\n",
    "        temp3 = temp3.replace(\"]\", \"\")\n",
    "        temp3 = temp3.split(\",\")\n",
    "        test_percentage.append(float(temp2[0]))\n",
    "        test_position.append([int(temp3[0]),int(temp3[1]),int(temp3[2]),int(temp3[3])])\n",
    "    if len(temp) > 2:\n",
    "        start = 1\n",
    "        temp_per = []\n",
    "        temp_position = []\n",
    "        max_fire = 0\n",
    "        max_position = []\n",
    "        while start < len(temp):\n",
    "            temp2 = temp[start].split(\":\")\n",
    "            temp3 = temp2[1].replace(\"[\", \"\")\n",
    "            temp3 = temp3.replace(\"]\", \"\")\n",
    "            temp3 = temp3.split(\",\")\n",
    "            if float(temp2[0])> max_fire:\n",
    "                max_fire = float(temp2[0])\n",
    "                max_position = [int(temp3[0]),int(temp3[1]),int(temp3[2]),int(temp3[3])]\n",
    "            start = start + 1\n",
    "        test_percentage.append(max_fire)\n",
    "        test_position.append(max_position)\n",
    "    test_stove.append(0)\n",
    "    test_cook.append(1)\n",
    "    test_exact_value.append(0)\n",
    "    a=f.readline()\n",
    "f.close()"
   ]
  },
  {
   "cell_type": "code",
   "execution_count": 28,
   "metadata": {},
   "outputs": [
    {
     "name": "stdout",
     "output_type": "stream",
     "text": [
      "[0 0 0 0 0 0 0 0 0 0 0 0 0 0 0 0 0 0 0 0 0 0 0 0 0 0]\n",
      "1.0\n"
     ]
    }
   ],
   "source": [
    "test_data=[]\n",
    "for i in range (len(test_percentage)):\n",
    "    test_data.append([test_percentage[i],test_position[i][0],test_position[i][1],test_position[i][2]*test_position[i][3]/1000000,test_stove[i],test_cook[i]])\n",
    "print(logisticRegr.predict(test_data))\n",
    "accuracy = logisticRegr.score(test_data,test_exact_value)\n",
    "f_test_data = f_test_data + test_data\n",
    "f_test_exact_value = f_test_exact_value + test_exact_value\n",
    "print(accuracy)\n",
    "acc.append(accuracy)"
   ]
  },
  {
   "cell_type": "code",
   "execution_count": 29,
   "metadata": {},
   "outputs": [
    {
     "name": "stdout",
     "output_type": "stream",
     "text": [
      "['', '72.62585759162903:[1354, 543, 1489, 802]\\n']\n",
      "['\\n']\n",
      "['\\n']\n",
      "['\\n']\n",
      "['\\n']\n",
      "['\\n']\n",
      "['\\n']\n",
      "['\\n']\n",
      "['\\n']\n",
      "['', '48.58544170856476:[1258, 0, 1811, 461]', '52.231138944625854:[1377, 363, 1903, 1042]\\n']\n",
      "['', '50.38904547691345:[1158, 0, 1889, 422]\\n']\n",
      "['', '58.66878628730774:[1387, 143, 1751, 888]\\n']\n",
      "['', '55.45930862426758:[1288, 53, 1753, 857]\\n']\n",
      "['', '58.469563722610474:[1279, 60, 1766, 830]\\n']\n",
      "['\\n']\n",
      "['\\n']\n",
      "['\\n']\n",
      "['', '49.22434389591217:[1336, 47, 1701, 863]\\n']\n",
      "['\\n']\n",
      "['\\n']\n",
      "['\\n']\n",
      "['\\n']\n",
      "['\\n']\n",
      "['\\n']\n",
      "['\\n']\n",
      "['\\n']\n",
      "['\\n']\n",
      "['\\n']\n",
      "['', '52.20871567726135:[1346, 6, 2004, 729]', '57.755619287490845:[1425, 712, 1940, 1070]\\n']\n",
      "['', '44.21147108078003:[1383, 0, 2003, 762]\\n']\n",
      "['', '56.53297305107117:[1477, 760, 1951, 1093]\\n']\n",
      "['', '53.26042175292969:[1517, 306, 1908, 951]\\n']\n",
      "['', '53.947651386260986:[1491, 39, 1654, 227]\\n']\n",
      "['', '72.17846512794495:[1799, 381, 1914, 589]\\n']\n",
      "['\\n']\n",
      "['', '52.03119516372681:[1396, 785, 1949, 1090]\\n']\n",
      "['', '48.39109182357788:[1376, 775, 1929, 1079]\\n']\n",
      "['\\n']\n",
      "['\\n']\n",
      "['\\n']\n",
      "['\\n']\n",
      "['', '46.36743366718292:[329, 45, 1627, 725]\\n']\n",
      "['', '51.02260708808899:[512, 34, 1680, 741]\\n']\n",
      "['', '51.997458934783936:[692, 22, 1819, 934]\\n']\n",
      "['', '41.29914939403534:[1282, 472, 1773, 1102]', '42.00292527675629:[340, 814, 872, 1033]\\n']\n",
      "['', '51.103758811950684:[377, 215, 1890, 1222]\\n']\n",
      "['', '65.01426100730896:[1118, 688, 1633, 1102]\\n']\n",
      "['', '48.028889298439026:[989, 386, 1538, 994]\\n']\n",
      "['\\n']\n",
      "['\\n']\n"
     ]
    }
   ],
   "source": [
    "test_exact_value = []\n",
    "test_percentage = []\n",
    "test_position = []\n",
    "test_stove = []\n",
    "test_cook = []\n",
    "f = open(\"test3.txt\")\n",
    "a = f.readline()\n",
    "while a != '':\n",
    "    temp = a.split(\"fire;\")\n",
    "    print(temp)\n",
    "    if len(temp) == 1:\n",
    "        test_percentage.append(0)\n",
    "        test_position.append([0,0,0,0])\n",
    "    if len(temp) == 2:\n",
    "        temp2 = temp[1].split(\":\")\n",
    "        temp3 = temp2[1].replace(\"[\", \"\")\n",
    "        temp3 = temp3.replace(\"]\", \"\")\n",
    "        temp3 = temp3.split(\",\")\n",
    "        test_percentage.append(float(temp2[0]))\n",
    "        test_position.append([int(temp3[0]),int(temp3[1]),int(temp3[2]),int(temp3[3])])\n",
    "    if len(temp) > 2:\n",
    "        start = 1\n",
    "        temp_per = []\n",
    "        temp_position = []\n",
    "        max_fire = 0\n",
    "        max_position = []\n",
    "        while start < len(temp):\n",
    "            temp2 = temp[start].split(\":\")\n",
    "            temp3 = temp2[1].replace(\"[\", \"\")\n",
    "            temp3 = temp3.replace(\"]\", \"\")\n",
    "            temp3 = temp3.split(\",\")\n",
    "            if float(temp2[0])> max_fire:\n",
    "                max_fire = float(temp2[0])\n",
    "                max_position = [int(temp3[0]),int(temp3[1]),int(temp3[2]),int(temp3[3])]\n",
    "            start = start + 1\n",
    "        test_percentage.append(max_fire)\n",
    "        test_position.append(max_position)\n",
    "    test_stove.append(0)\n",
    "    test_cook.append(1)\n",
    "    test_exact_value.append(0)\n",
    "    a=f.readline()\n",
    "f.close()"
   ]
  },
  {
   "cell_type": "code",
   "execution_count": 30,
   "metadata": {},
   "outputs": [
    {
     "name": "stdout",
     "output_type": "stream",
     "text": [
      "0.92\n"
     ]
    }
   ],
   "source": [
    "test_data=[]\n",
    "for i in range (len(test_percentage)):\n",
    "    test_data.append([test_percentage[i],test_position[i][0],test_position[i][1],test_position[i][2]*test_position[i][3]/1000000,test_stove[i],test_cook[i]])\n",
    "logisticRegr.predict(test_data)\n",
    "f_test_data = f_test_data + test_data\n",
    "f_test_exact_value = f_test_exact_value + test_exact_value\n",
    "accuracy = logisticRegr.score(test_data,test_exact_value)\n",
    "print(accuracy)\n",
    "acc.append(accuracy)"
   ]
  },
  {
   "cell_type": "code",
   "execution_count": 31,
   "metadata": {},
   "outputs": [
    {
     "name": "stdout",
     "output_type": "stream",
     "text": [
      "['', '62.62362003326416:[3, 41, 77, 92]\\n']\n",
      "['', '64.77220058441162:[66, 104, 146, 166]\\n']\n",
      "['', '41.01007580757141:[148, 114, 214, 154]\\n']\n",
      "['', '62.767744064331055:[135, 82, 192, 144]\\n']\n",
      "['', '67.0314073562622:[202, 14, 279, 65]\\n']\n",
      "['', '62.94422745704651:[40, 48, 109, 135]\\n']\n",
      "['', '63.0718469619751:[100, 69, 190, 132]\\n']\n",
      "['', '56.084030866622925:[100, 31, 177, 107]\\n']\n",
      "['', '40.82795977592468:[106, 97, 170, 134]\\n']\n",
      "['', '54.877978563308716:[106, 72, 192, 159]', '47.35522270202637:[213, 121, 257, 152]\\n']\n",
      "['', '50.31890869140625:[109, 53, 145, 109]\\n']\n",
      "['', '51.985520124435425:[77, 64, 156, 117]\\n']\n",
      "['', '51.756566762924194:[80, 60, 161, 109]\\n']\n",
      "['', '73.14397096633911:[21, 34, 115, 110]', '74.52661991119385:[169, 96, 202, 120]', '56.62384629249573:[76, 121, 98, 139]', '66.73875451087952:[13, 131, 58, 148]\\n']\n",
      "['', '55.7153582572937:[81, 88, 171, 179]\\n']\n",
      "['', '40.27019441127777:[93, 39, 142, 118]\\n']\n",
      "['', '63.065457344055176:[124, 83, 193, 132]\\n']\n",
      "['', '65.05854725837708:[87, 63, 159, 123]\\n']\n",
      "['', '60.2826714515686:[106, 33, 218, 107]\\n']\n",
      "['', '48.63496720790863:[157, 51, 201, 115]\\n']\n",
      "['', '62.71453499794006:[90, 87, 157, 135]\\n']\n",
      "['', '41.51115119457245:[136, 120, 189, 171]\\n']\n",
      "['', '52.049362659454346:[62, 34, 163, 108]\\n']\n",
      "['', '41.91220700740814:[164, 94, 206, 129]\\n']\n",
      "['', '50.699830055236816:[77, 66, 148, 143]\\n']\n",
      "['', '42.324650287628174:[77, 70, 166, 112]\\n']\n",
      "['', '64.76762294769287:[126, 74, 210, 137]', '50.52399039268494:[82, 107, 125, 135]\\n']\n",
      "['', '65.74477553367615:[161, 62, 250, 119]\\n']\n",
      "['', '42.330947518348694:[144, 110, 175, 180]', '79.04324531555176:[102, 101, 132, 125]\\n']\n",
      "['', '59.15825963020325:[82, 50, 166, 130]', '56.154441833496094:[83, 11, 125, 39]\\n']\n",
      "['', '58.0253541469574:[156, 10, 219, 107]\\n']\n",
      "['\\n']\n",
      "['', '58.99501442909241:[114, 81, 176, 139]\\n']\n",
      "['', '59.132665395736694:[63, 48, 161, 127]\\n']\n",
      "['', '59.367209672927856:[104, 18, 186, 103]\\n']\n",
      "['', '60.770994424819946:[87, 37, 161, 92]\\n']\n",
      "['', '45.427918434143066:[144, 62, 241, 109]', '46.3456928730011:[134, 109, 194, 142]\\n']\n",
      "['', '41.60375893115997:[38, 106, 126, 156]\\n']\n",
      "['', '58.70922803878784:[44, 93, 125, 155]\\n']\n",
      "['', '62.63728737831116:[84, 19, 151, 73]\\n']\n",
      "['', '48.78458082675934:[92, 117, 124, 146]\\n']\n",
      "['', '59.6275269985199:[20, 63, 77, 116]', '44.414544105529785:[60, 117, 118, 158]', '67.07097887992859:[125, 131, 152, 151]\\n']\n",
      "['', '60.08920073509216:[176, 60, 244, 117]\\n']\n",
      "['', '42.559534311294556:[41, 171, 94, 236]', '44.658517837524414:[110, 184, 173, 250]\\n']\n",
      "['\\n']\n",
      "['', '44.24176812171936:[201, 111, 254, 152]\\n']\n",
      "['', '46.44557237625122:[115, 50, 220, 116]\\n']\n",
      "['', '64.7961676120758:[55, 29, 150, 75]\\n']\n",
      "['', '50.638753175735474:[96, 12, 209, 118]\\n']\n",
      "['', '65.87177515029907:[74, 49, 145, 117]', '83.76562595367432:[186, 80, 210, 100]\\n']\n",
      "['', '49.218666553497314:[131, 61, 172, 108]\\n']\n",
      "['', '59.016311168670654:[162, 34, 255, 158]\\n']\n",
      "['', '58.09127688407898:[74, 65, 166, 116]\\n']\n",
      "['', '48.11462163925171:[153, 24, 239, 94]\\n']\n",
      "['', '64.1915500164032:[109, 34, 171, 132]', '63.45541477203369:[40, 38, 115, 99]\\n']\n",
      "['', '45.058637857437134:[165, 83, 222, 112]\\n']\n",
      "['', '62.04482316970825:[56, 48, 156, 135]\\n']\n",
      "['', '69.49973702430725:[101, 86, 157, 144]\\n']\n",
      "['', '50.51317811012268:[91, 48, 202, 117]\\n']\n",
      "['', '62.07281947135925:[194, 98, 252, 152]\\n']\n",
      "0.9666666666666667\n"
     ]
    }
   ],
   "source": [
    "test_exact_value = []\n",
    "test_percentage = []\n",
    "test_position = []\n",
    "test_stove = []\n",
    "test_cook = []\n",
    "f = open(\"test4.txt\")\n",
    "a = f.readline()\n",
    "while a != '':\n",
    "    temp = a.split(\"fire;\")\n",
    "    print(temp)\n",
    "    if len(temp) == 1:\n",
    "        test_percentage.append(0)\n",
    "        test_position.append([0,0,0,0])\n",
    "    if len(temp) == 2:\n",
    "        temp2 = temp[1].split(\":\")\n",
    "        temp3 = temp2[1].replace(\"[\", \"\")\n",
    "        temp3 = temp3.replace(\"]\", \"\")\n",
    "        temp3 = temp3.split(\",\")\n",
    "        test_percentage.append(float(temp2[0]))\n",
    "        test_position.append([int(temp3[0]),int(temp3[1]),int(temp3[2]),int(temp3[3])])\n",
    "    if len(temp) > 2:\n",
    "        start = 1\n",
    "        temp_per = []\n",
    "        temp_position = []\n",
    "        max_fire = 0\n",
    "        max_position = []\n",
    "        while start < len(temp):\n",
    "            temp2 = temp[start].split(\":\")\n",
    "            temp3 = temp2[1].replace(\"[\", \"\")\n",
    "            temp3 = temp3.replace(\"]\", \"\")\n",
    "            temp3 = temp3.split(\",\")\n",
    "            if float(temp2[0])> max_fire:\n",
    "                max_fire = float(temp2[0])\n",
    "                max_position = [int(temp3[0]),int(temp3[1]),int(temp3[2]),int(temp3[3])]\n",
    "            start = start + 1\n",
    "        test_percentage.append(max_fire)\n",
    "        test_position.append(max_position)\n",
    "    test_stove.append(0)\n",
    "    test_cook.append(0)\n",
    "    test_exact_value.append(1)\n",
    "    a=f.readline()\n",
    "f.close()\n",
    "test_data=[]\n",
    "for i in range (len(test_percentage)):\n",
    "    test_data.append([test_percentage[i],test_position[i][0],test_position[i][1],test_position[i][2]*test_position[i][3]/1000000,test_stove[i],test_cook[i]])\n",
    "logisticRegr.predict(test_data)\n",
    "accuracy = logisticRegr.score(test_data,test_exact_value)\n",
    "print(accuracy)\n",
    "f_test_data = f_test_data + test_data\n",
    "f_test_exact_value = f_test_exact_value + test_exact_value\n",
    "acc.append(accuracy)"
   ]
  },
  {
   "cell_type": "code",
   "execution_count": 32,
   "metadata": {},
   "outputs": [
    {
     "name": "stdout",
     "output_type": "stream",
     "text": [
      "1.0\n"
     ]
    }
   ],
   "source": [
    "test_exact_value = []\n",
    "test_percentage = []\n",
    "test_position = []\n",
    "test_stove = []\n",
    "test_cook = []\n",
    "f = open(\"test5.txt\")\n",
    "a = f.readline()\n",
    "while a != '':\n",
    "    temp = a.split(\"fire;\")\n",
    "    if len(temp) == 1:\n",
    "        test_percentage.append(0)\n",
    "        test_position.append([0,0,0,0])\n",
    "    if len(temp) == 2:\n",
    "        temp2 = temp[1].split(\":\")\n",
    "        temp3 = temp2[1].replace(\"[\", \"\")\n",
    "        temp3 = temp3.replace(\"]\", \"\")\n",
    "        temp3 = temp3.split(\",\")\n",
    "        test_percentage.append(float(temp2[0]))\n",
    "        test_position.append([int(temp3[0]),int(temp3[1]),int(temp3[2]),int(temp3[3])])\n",
    "    if len(temp) > 2:\n",
    "        start = 1\n",
    "        temp_per = []\n",
    "        temp_position = []\n",
    "        max_fire = 0\n",
    "        max_position = []\n",
    "        while start < len(temp):\n",
    "            temp2 = temp[start].split(\":\")\n",
    "            temp3 = temp2[1].replace(\"[\", \"\")\n",
    "            temp3 = temp3.replace(\"]\", \"\")\n",
    "            temp3 = temp3.split(\",\")\n",
    "            if float(temp2[0])> max_fire:\n",
    "                max_fire = float(temp2[0])\n",
    "                max_position = [int(temp3[0]),int(temp3[1]),int(temp3[2]),int(temp3[3])]\n",
    "            start = start + 1\n",
    "        test_percentage.append(max_fire)\n",
    "        test_position.append(max_position)\n",
    "    test_stove.append(1)\n",
    "    test_cook.append(0)\n",
    "    test_exact_value.append(0)\n",
    "    a=f.readline()\n",
    "f.close()\n",
    "test_data=[]\n",
    "for i in range (len(test_percentage)):\n",
    "    test_data.append([test_percentage[i],test_position[i][0],test_position[i][1],test_position[i][2]*test_position[i][3]/1000000,test_stove[i],test_cook[i]])\n",
    "logisticRegr.predict(test_data)\n",
    "accuracy = logisticRegr.score(test_data,test_exact_value)\n",
    "print(accuracy)\n",
    "f_test_data = f_test_data + test_data\n",
    "f_test_exact_value = f_test_exact_value + test_exact_value\n"
   ]
  },
  {
   "cell_type": "code",
   "execution_count": 33,
   "metadata": {},
   "outputs": [
    {
     "name": "stdout",
     "output_type": "stream",
     "text": [
      "1.0\n"
     ]
    }
   ],
   "source": [
    "test_data = []\n",
    "test_exact_value = []\n",
    "for i in range ((50)):\n",
    "    test_data.append([0,0,0,0,0,0])\n",
    "    test_exact_value.append(0)\n",
    "logisticRegr.predict(test_data)\n",
    "accuracy = logisticRegr.score(test_data,test_exact_value)\n",
    "print(accuracy)\n",
    "f_test_data = f_test_data + test_data\n",
    "f_test_exact_value = f_test_exact_value + test_exact_value\n",
    "acc.append(accuracy)"
   ]
  },
  {
   "cell_type": "code",
   "execution_count": 34,
   "metadata": {},
   "outputs": [
    {
     "name": "stdout",
     "output_type": "stream",
     "text": [
      "[0.8421052631578947, 1.0, 0.92, 0.9666666666666667, 1.0]\n"
     ]
    },
    {
     "data": {
      "image/png": "[encoded data removed]",
      "text/plain": [
       "<Figure size 432x288 with 1 Axes>"
      ]
     },
     "metadata": {
      "needs_background": "light"
     },
     "output_type": "display_data"
    }
   ],
   "source": [
    "import matplotlib.pyplot as plt\n",
    "print(acc)\n",
    "names = ['test3', 'test2', 'test1','test4','test5']\n",
    "plt.bar(names, acc)\n",
    "plt.suptitle('Accuracy on different tests')\n",
    "plt.show()"
   ]
  },
  {
   "cell_type": "code",
   "execution_count": null,
   "metadata": {},
   "outputs": [],
   "source": []
  }
 ],
 "metadata": {
  "kernelspec": {
   "display_name": "Python 3",
   "language": "python",
   "name": "python3"
  },
  "language_info": {
   "codemirror_mode": {
    "name": "ipython",
    "version": 3
   },
   "file_extension": ".py",
   "mimetype": "text/x-python",
   "name": "python",
   "nbconvert_exporter": "python",
   "pygments_lexer": "ipython3",
   "version": "3.7.3"
  }
 },
 "nbformat": 4,
 "nbformat_minor": 2
}
